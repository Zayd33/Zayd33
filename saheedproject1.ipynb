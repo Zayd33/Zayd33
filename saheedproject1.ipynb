{
  "nbformat": 4,
  "nbformat_minor": 0,
  "metadata": {
    "colab": {
      "provenance": [],
      "authorship_tag": "ABX9TyOmjJh0+bBcTcGjAkShjFRB",
      "include_colab_link": true
    },
    "kernelspec": {
      "name": "python3",
      "display_name": "Python 3"
    },
    "language_info": {
      "name": "python"
    }
  },
  "cells": [
    {
      "cell_type": "markdown",
      "metadata": {
        "id": "view-in-github",
        "colab_type": "text"
      },
      "source": [
        "<a href=\"https://colab.research.google.com/github/Zayd33/Zayd33/blob/main/saheedproject1.ipynb\" target=\"_parent\"><img src=\"https://colab.research.google.com/assets/colab-badge.svg\" alt=\"Open In Colab\"/></a>"
      ]
    },
    {
      "cell_type": "code",
      "execution_count": 2,
      "metadata": {
        "colab": {
          "base_uri": "https://localhost:8080/",
          "height": 106
        },
        "id": "lN2B1oafJt9s",
        "outputId": "8a7ad721-4205-4611-8e9c-d16d7f496c0f"
      },
      "outputs": [
        {
          "output_type": "error",
          "ename": "IndentationError",
          "evalue": "expected an indented block after function definition on line 5 (<ipython-input-2-dbfa2ee02449>, line 6)",
          "traceback": [
            "\u001b[0;36m  File \u001b[0;32m\"<ipython-input-2-dbfa2ee02449>\"\u001b[0;36m, line \u001b[0;32m6\u001b[0m\n\u001b[0;31m    \"Fetches weather data for Durban and updates the GUI\"\u001b[0m\n\u001b[0m    ^\u001b[0m\n\u001b[0;31mIndentationError\u001b[0m\u001b[0;31m:\u001b[0m expected an indented block after function definition on line 5\n"
          ]
        }
      ],
      "source": [
        "#Durban South Africa Weather App Project\n",
        "import tkinter as tk\n",
        "from tkinter import ttk\n",
        "import requests\n",
        "def get_weather():\n",
        "\"Fetches weather data for Durban and updates the GUI\"\n",
        "api_key = \"a0766b3afaad2e02894e291275d26523\"\n",
        "city = \"Durban\"\n",
        "month = \"2024-07\"\n",
        "# Durban API URL\n",
        "url = f\"http://api.weatherapi.com/v1/history.json?key={a0766b3afaad2e02894e291275d26523}&q={Durban}&dt={2024-07}-01&end_dt={2024-07}-31\"\n",
        "try:\n",
        "response = requests.get(url)\n",
        "response.raise_for_status()\n",
        "data = response.json()\n",
        "# Durban weather information exctraction\n",
        "forecast_days = data['forecast']['forecastday']\n",
        "for day_data in forecast_days:\n",
        "date = day_data['2024-07']\n",
        "avg_temp = day_data['day']['avgtemp_c']\n",
        "condition = day_data['day']['condition']['text']\n",
        "# Inserting GUI with the Durban weather data\n",
        "weather_text.insert(tk.END, f\"{2024-07}: Avg Temp: {avg_temp}°C, Condition: {condition}\\n\")\n",
        "except requests.exceptions.RequestException as e:\n",
        "weather_text.insert(tk.END, f\"Error fetching weather data: {e}\")\n",
        "# Durban main window\n",
        "window = tk.Tk()\n",
        "window.title(\"Durban Weather App\")\n",
        "# My Durban for the title\n",
        "title_label = ttk.Label(window, text=\"Durban Weather (July 2024)\", font=(\"Arial\", 16))\n",
        "title_label.pack(pady=10)\n",
        "# Durban widget to display weather information\n",
        "weather_text = tk.Text(window, wrap=tk.WORD, width=50, height=15)\n",
        "weather_text.pack()\n",
        "# Durban button to fetch weather data\n",
        "fetch_button = ttk.Button(window, text=\"Get Weather\", command=get_weather)\n",
        "fetch_button.pack(pady=10)\n",
        "window.mainloop()\n",
        "\n"
      ]
    }
  ]
}