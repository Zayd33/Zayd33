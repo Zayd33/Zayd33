{
  "nbformat": 4,
  "nbformat_minor": 0,
  "metadata": {
    "colab": {
      "provenance": [],
      "authorship_tag": "ABX9TyOVc/UjavBoLXorgDP+5hNa",
      "include_colab_link": true
    },
    "kernelspec": {
      "name": "python3",
      "display_name": "Python 3"
    },
    "language_info": {
      "name": "python"
    }
  },
  "cells": [
    {
      "cell_type": "markdown",
      "metadata": {
        "id": "view-in-github",
        "colab_type": "text"
      },
      "source": [
        "<a href=\"https://colab.research.google.com/github/Zayd33/Zayd33/blob/main/Durban_SouthAfrica_weather_app_project.ipynb\" target=\"_parent\"><img src=\"https://colab.research.google.com/assets/colab-badge.svg\" alt=\"Open In Colab\"/></a>"
      ]
    },
    {
      "cell_type": "code",
      "execution_count": 13,
      "metadata": {
        "colab": {
          "base_uri": "https://localhost:8080/",
          "height": 106
        },
        "id": "DiXDFEoiMVWW",
        "outputId": "d214ae8b-16e5-475d-b56b-6d7e0d8e0568"
      },
      "outputs": [
        {
          "output_type": "error",
          "ename": "SyntaxError",
          "evalue": "leading zeros in decimal integer literals are not permitted; use an 0o prefix for octal integers (<ipython-input-13-ed908c1aece9>, line 13)",
          "traceback": [
            "\u001b[0;36m  File \u001b[0;32m\"<ipython-input-13-ed908c1aece9>\"\u001b[0;36m, line \u001b[0;32m13\u001b[0m\n\u001b[0;31m    url = f\"http://api.weatherapi.com/v1/history.json?key={a0766b3afaad2e02894e291275d26523}&q={Durban}&dt={2024-07}-01&end_dt={2024-07}-31\"\u001b[0m\n\u001b[0m        ^\u001b[0m\n\u001b[0;31mSyntaxError\u001b[0m\u001b[0;31m:\u001b[0m leading zeros in decimal integer literals are not permitted; use an 0o prefix for octal integers\n"
          ]
        }
      ],
      "source": [
        "#Durban South Africa Weather App Project\n",
        "import tkinter as tk\n",
        "from tkinter import ttk\n",
        "import requests\n",
        "\n",
        "def get_weather():\n",
        "  \"\"\"Fetches weather data for Durban and updates the GUI.\"\"\"\n",
        "  api_key = \"a0766b3afaad2e02894e291275d26523\"\n",
        "  city = \"Durban\"\n",
        "  month = \"2024-07\"\n",
        "\n",
        "  # Durban API URL\n",
        "  url = f\"http://api.weatherapi.com/v1/history.json?key={a0766b3afaad2e02894e291275d26523}&q={Durban}&dt={2024-07}-01&end_dt={2024-07}-31\"\n",
        "\n",
        "  try:\n",
        "    response = requests.get(url)\n",
        "    response.raise_for_status()\n",
        "    data = response.json()\n",
        "\n",
        "    # Durban weather information exctraction\n",
        "    forecast_days = data['forecast']['forecastday']\n",
        "    for day_data in forecast_days:\n",
        "      date = day_data['2024-07']\n",
        "      avg_temp = day_data['day']['avgtemp_c']\n",
        "      condition = day_data['day']['condition']['text']\n",
        "\n",
        "      # Inserting GUI with the Durban weather data\n",
        "      weather_text.insert(tk.END, f\"{2024-07}: Avg Temp: {avg_temp}°C, Condition: {condition}\\n\")\n",
        "\n",
        "  except requests.exceptions.RequestException as e:\n",
        "    weather_text.insert(tk.END, f\"Error fetching weather data: {e}\")\n",
        "\n",
        "# Durban main window\n",
        "window = tk.Tk()\n",
        "window.title(\"Durban Weather App\")\n",
        "\n",
        "# My Durban for the title\n",
        "title_label = ttk.Label(window, text=\"Durban Weather (July 2024)\", font=(\"Arial\", 16))\n",
        "title_label.pack(pady=10)\n",
        "\n",
        "# Durban widget to display weather information\n",
        "weather_text = tk.Text(window, wrap=tk.WORD, width=50, height=15)\n",
        "weather_text.pack()\n",
        "\n",
        "# Durban button to fetch weather data\n",
        "fetch_button = ttk.Button(window, text=\"Get Weather\", command=get_weather)\n",
        "fetch_button.pack(pady=10)\n",
        "\n",
        "window.mainloop()\n"
      ]
    },
    {
      "cell_type": "code",
      "execution_count": 2,
      "metadata": {
        "colab": {
          "base_uri": "https://localhost:8080/",
          "height": 332
        },
        "id": "mElzSEnIe-x7",
        "outputId": "7c833af2-8199-47f0-9e0b-c586041c845f"
      },
      "outputs": [
        {
          "output_type": "error",
          "ename": "TclError",
          "evalue": "no display name and no $DISPLAY environment variable",
          "traceback": [
            "\u001b[0;31m---------------------------------------------------------------------------\u001b[0m",
            "\u001b[0;31mTclError\u001b[0m                                  Traceback (most recent call last)",
            "\u001b[0;32m<ipython-input-2-04baaf45e039>\u001b[0m in \u001b[0;36m<cell line: 35>\u001b[0;34m()\u001b[0m\n\u001b[1;32m     33\u001b[0m \u001b[0;34m\u001b[0m\u001b[0m\n\u001b[1;32m     34\u001b[0m \u001b[0;31m# Create the main window\u001b[0m\u001b[0;34m\u001b[0m\u001b[0;34m\u001b[0m\u001b[0m\n\u001b[0;32m---> 35\u001b[0;31m \u001b[0mwindow\u001b[0m \u001b[0;34m=\u001b[0m \u001b[0mtk\u001b[0m\u001b[0;34m.\u001b[0m\u001b[0mTk\u001b[0m\u001b[0;34m(\u001b[0m\u001b[0;34m)\u001b[0m\u001b[0;34m\u001b[0m\u001b[0;34m\u001b[0m\u001b[0m\n\u001b[0m\u001b[1;32m     36\u001b[0m \u001b[0mwindow\u001b[0m\u001b[0;34m.\u001b[0m\u001b[0mtitle\u001b[0m\u001b[0;34m(\u001b[0m\u001b[0;34m\"Durban Weather App\"\u001b[0m\u001b[0;34m)\u001b[0m\u001b[0;34m\u001b[0m\u001b[0;34m\u001b[0m\u001b[0m\n\u001b[1;32m     37\u001b[0m \u001b[0;34m\u001b[0m\u001b[0m\n",
            "\u001b[0;32m/usr/lib/python3.10/tkinter/__init__.py\u001b[0m in \u001b[0;36m__init__\u001b[0;34m(self, screenName, baseName, className, useTk, sync, use)\u001b[0m\n\u001b[1;32m   2297\u001b[0m                 \u001b[0mbaseName\u001b[0m \u001b[0;34m=\u001b[0m \u001b[0mbaseName\u001b[0m \u001b[0;34m+\u001b[0m \u001b[0mext\u001b[0m\u001b[0;34m\u001b[0m\u001b[0;34m\u001b[0m\u001b[0m\n\u001b[1;32m   2298\u001b[0m         \u001b[0minteractive\u001b[0m \u001b[0;34m=\u001b[0m \u001b[0;32mFalse\u001b[0m\u001b[0;34m\u001b[0m\u001b[0;34m\u001b[0m\u001b[0m\n\u001b[0;32m-> 2299\u001b[0;31m         \u001b[0mself\u001b[0m\u001b[0;34m.\u001b[0m\u001b[0mtk\u001b[0m \u001b[0;34m=\u001b[0m \u001b[0m_tkinter\u001b[0m\u001b[0;34m.\u001b[0m\u001b[0mcreate\u001b[0m\u001b[0;34m(\u001b[0m\u001b[0mscreenName\u001b[0m\u001b[0;34m,\u001b[0m \u001b[0mbaseName\u001b[0m\u001b[0;34m,\u001b[0m \u001b[0mclassName\u001b[0m\u001b[0;34m,\u001b[0m \u001b[0minteractive\u001b[0m\u001b[0;34m,\u001b[0m \u001b[0mwantobjects\u001b[0m\u001b[0;34m,\u001b[0m \u001b[0museTk\u001b[0m\u001b[0;34m,\u001b[0m \u001b[0msync\u001b[0m\u001b[0;34m,\u001b[0m \u001b[0muse\u001b[0m\u001b[0;34m)\u001b[0m\u001b[0;34m\u001b[0m\u001b[0;34m\u001b[0m\u001b[0m\n\u001b[0m\u001b[1;32m   2300\u001b[0m         \u001b[0;32mif\u001b[0m \u001b[0museTk\u001b[0m\u001b[0;34m:\u001b[0m\u001b[0;34m\u001b[0m\u001b[0;34m\u001b[0m\u001b[0m\n\u001b[1;32m   2301\u001b[0m             \u001b[0mself\u001b[0m\u001b[0;34m.\u001b[0m\u001b[0m_loadtk\u001b[0m\u001b[0;34m(\u001b[0m\u001b[0;34m)\u001b[0m\u001b[0;34m\u001b[0m\u001b[0;34m\u001b[0m\u001b[0m\n",
            "\u001b[0;31mTclError\u001b[0m: no display name and no $DISPLAY environment variable"
          ]
        }
      ],
      "source": [
        "\n"
      ]
    }
  ]
}